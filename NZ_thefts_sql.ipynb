{
    "metadata": {
        "kernelspec": {
            "name": "SQL",
            "display_name": "SQL",
            "language": "sql"
        },
        "language_info": {
            "name": "sql",
            "version": ""
        }
    },
    "nbformat_minor": 2,
    "nbformat": 4,
    "cells": [
        {
            "cell_type": "code",
            "source": [
                "CREATE TABLE locations (\r\n",
                "    location_id TINYINT PRIMARY KEY,\r\n",
                "    region NVARCHAR(50),\r\n",
                "    country NVARCHAR(20),\r\n",
                "    population INT,\r\n",
                "    density INT \r\n",
                ");\r\n",
                "\r\n",
                "CREATE TABLE make_details(\r\n",
                "    make_id SMALLINT PRIMARY KEY,\r\n",
                "    make_name NVARCHAR(50),\r\n",
                "    make_type NVARCHAR(50)\r\n",
                ");\r\n",
                "\r\n",
                "\r\n",
                "CREATE TABLE stolen_vehicles (\r\n",
                "    vehicle_id SMALLINT PRIMARY KEY,\r\n",
                "    vehicle_type NVARCHAR(50),\r\n",
                "    make_id SMALLINT,\r\n",
                "    model_year SMALLINT,\r\n",
                "    vehicle_age TINYINT,\r\n",
                "    vehicle_desc NVARCHAR(100),\r\n",
                "    color NVARCHAR(30),\r\n",
                "    date_stolen DATE,\r\n",
                "    weekday_stolen NVARCHAR(10),\r\n",
                "    location_id TINYINT,\r\n",
                "    CONSTRAINT location_FK FOREIGN KEY(location_id) REFERENCES locations(location_id),\r\n",
                "    CONSTRAINT make_FK FOREIGN KEY(make_id) REFERENCES make_details(make_id)\r\n",
                ");"
            ],
            "metadata": {
                "azdata_cell_guid": "a916a20e-2cd7-4c18-a56e-125fcd0fa0c3",
                "language": "sql"
            },
            "outputs": [
                {
                    "output_type": "display_data",
                    "data": {
                        "text/html": "Commands completed successfully."
                    },
                    "metadata": {}
                },
                {
                    "output_type": "display_data",
                    "data": {
                        "text/html": "Total execution time: 00:00:00.026"
                    },
                    "metadata": {}
                }
            ],
            "execution_count": 1
        },
        {
            "cell_type": "code",
            "source": [
                "SELECT TOP 3 * FROM locations;\r\n",
                "\r\n",
                "SELECT TOP 3 * FROM make_details;\r\n",
                "\r\n",
                "SELECT TOP 3 * FROM stolen_vehicles;"
            ],
            "metadata": {
                "azdata_cell_guid": "ae8f37e0-48b5-490b-9241-814121615f90",
                "language": "sql"
            },
            "outputs": [
                {
                    "output_type": "display_data",
                    "data": {
                        "text/html": "(3 rows affected)"
                    },
                    "metadata": {}
                },
                {
                    "output_type": "display_data",
                    "data": {
                        "text/html": "(3 rows affected)"
                    },
                    "metadata": {}
                },
                {
                    "output_type": "display_data",
                    "data": {
                        "text/html": "(3 rows affected)"
                    },
                    "metadata": {}
                },
                {
                    "output_type": "display_data",
                    "data": {
                        "text/html": "Total execution time: 00:00:00.026"
                    },
                    "metadata": {}
                },
                {
                    "output_type": "execute_result",
                    "execution_count": 19,
                    "data": {
                        "application/vnd.dataresource+json": {
                            "schema": {
                                "fields": [
                                    {
                                        "name": "location_id"
                                    },
                                    {
                                        "name": "region"
                                    },
                                    {
                                        "name": "country"
                                    },
                                    {
                                        "name": "population"
                                    },
                                    {
                                        "name": "density"
                                    }
                                ]
                            },
                            "data": [
                                {
                                    "location_id": "101",
                                    "region": "Northland",
                                    "country": "New Zealand",
                                    "population": "201500",
                                    "density": "1611"
                                },
                                {
                                    "location_id": "102",
                                    "region": "Auckland",
                                    "country": "New Zealand",
                                    "population": "1695200",
                                    "density": "34309"
                                },
                                {
                                    "location_id": "103",
                                    "region": "Waikato",
                                    "country": "New Zealand",
                                    "population": "513800",
                                    "density": "215"
                                }
                            ]
                        },
                        "text/html": "<table><tr><th>location_id</th><th>region</th><th>country</th><th>population</th><th>density</th></tr><tr><td>101</td><td>Northland</td><td>New Zealand</td><td>201500</td><td>1611</td></tr><tr><td>102</td><td>Auckland</td><td>New Zealand</td><td>1695200</td><td>34309</td></tr><tr><td>103</td><td>Waikato</td><td>New Zealand</td><td>513800</td><td>215</td></tr></table>"
                    },
                    "metadata": {}
                },
                {
                    "output_type": "execute_result",
                    "execution_count": 19,
                    "data": {
                        "application/vnd.dataresource+json": {
                            "schema": {
                                "fields": [
                                    {
                                        "name": "make_id"
                                    },
                                    {
                                        "name": "make_name"
                                    },
                                    {
                                        "name": "make_type"
                                    }
                                ]
                            },
                            "data": [
                                {
                                    "make_id": "501",
                                    "make_name": "Aakron Xpress",
                                    "make_type": "Standard"
                                },
                                {
                                    "make_id": "502",
                                    "make_name": "ADLY",
                                    "make_type": "Standard"
                                },
                                {
                                    "make_id": "503",
                                    "make_name": "Alpha",
                                    "make_type": "Standard"
                                }
                            ]
                        },
                        "text/html": "<table><tr><th>make_id</th><th>make_name</th><th>make_type</th></tr><tr><td>501</td><td>Aakron Xpress</td><td>Standard</td></tr><tr><td>502</td><td>ADLY</td><td>Standard</td></tr><tr><td>503</td><td>Alpha</td><td>Standard</td></tr></table>"
                    },
                    "metadata": {}
                },
                {
                    "output_type": "execute_result",
                    "execution_count": 19,
                    "data": {
                        "application/vnd.dataresource+json": {
                            "schema": {
                                "fields": [
                                    {
                                        "name": "vehicle_id"
                                    },
                                    {
                                        "name": "vehicle_type"
                                    },
                                    {
                                        "name": "make_id"
                                    },
                                    {
                                        "name": "model_year"
                                    },
                                    {
                                        "name": "vehicle_age"
                                    },
                                    {
                                        "name": "vehicle_desc"
                                    },
                                    {
                                        "name": "color"
                                    },
                                    {
                                        "name": "date_stolen"
                                    },
                                    {
                                        "name": "weekday_stolen"
                                    },
                                    {
                                        "name": "location_id"
                                    }
                                ]
                            },
                            "data": [
                                {
                                    "vehicle_id": "1",
                                    "vehicle_type": "Trailer",
                                    "make_id": "623",
                                    "model_year": "2021",
                                    "vehicle_age": "4",
                                    "vehicle_desc": "BST2021D",
                                    "color": "Silver",
                                    "date_stolen": "2021-11-05",
                                    "weekday_stolen": "Fri",
                                    "location_id": "102"
                                },
                                {
                                    "vehicle_id": "2",
                                    "vehicle_type": "Boat Trailer",
                                    "make_id": "623",
                                    "model_year": "2021",
                                    "vehicle_age": "4",
                                    "vehicle_desc": "OUTBACK BOATS FT470",
                                    "color": "Silver",
                                    "date_stolen": "2021-12-13",
                                    "weekday_stolen": "Mon",
                                    "location_id": "105"
                                },
                                {
                                    "vehicle_id": "3",
                                    "vehicle_type": "Boat Trailer",
                                    "make_id": "623",
                                    "model_year": "2021",
                                    "vehicle_age": "4",
                                    "vehicle_desc": "ASD JETSKI",
                                    "color": "Silver",
                                    "date_stolen": "2022-02-13",
                                    "weekday_stolen": "Sun",
                                    "location_id": "102"
                                }
                            ]
                        },
                        "text/html": "<table><tr><th>vehicle_id</th><th>vehicle_type</th><th>make_id</th><th>model_year</th><th>vehicle_age</th><th>vehicle_desc</th><th>color</th><th>date_stolen</th><th>weekday_stolen</th><th>location_id</th></tr><tr><td>1</td><td>Trailer</td><td>623</td><td>2021</td><td>4</td><td>BST2021D</td><td>Silver</td><td>2021-11-05</td><td>Fri</td><td>102</td></tr><tr><td>2</td><td>Boat Trailer</td><td>623</td><td>2021</td><td>4</td><td>OUTBACK BOATS FT470</td><td>Silver</td><td>2021-12-13</td><td>Mon</td><td>105</td></tr><tr><td>3</td><td>Boat Trailer</td><td>623</td><td>2021</td><td>4</td><td>ASD JETSKI</td><td>Silver</td><td>2022-02-13</td><td>Sun</td><td>102</td></tr></table>"
                    },
                    "metadata": {}
                }
            ],
            "execution_count": 19
        },
        {
            "cell_type": "code",
            "source": [
                "SELECT l.region, COUNT(*) AS \"num_thefts\"\r\n",
                "FROM stolen_vehicles s JOIN locations l ON s.location_id = l.location_id\r\n",
                "GROUP BY l.region \r\n",
                "ORDER BY num_thefts DESC;"
            ],
            "metadata": {
                "azdata_cell_guid": "c48f6f81-228e-4600-a694-d8c307a91d29",
                "language": "sql"
            },
            "outputs": [
                {
                    "output_type": "display_data",
                    "data": {
                        "text/html": "(13 rows affected)"
                    },
                    "metadata": {}
                },
                {
                    "output_type": "display_data",
                    "data": {
                        "text/html": "Total execution time: 00:00:00.046"
                    },
                    "metadata": {}
                },
                {
                    "output_type": "execute_result",
                    "execution_count": 1,
                    "data": {
                        "application/vnd.dataresource+json": {
                            "schema": {
                                "fields": [
                                    {
                                        "name": "region"
                                    },
                                    {
                                        "name": "num_thefts"
                                    }
                                ]
                            },
                            "data": [
                                {
                                    "region": "Auckland",
                                    "num_thefts": "1630"
                                },
                                {
                                    "region": "Canterbury",
                                    "num_thefts": "660"
                                },
                                {
                                    "region": "Bay of Plenty",
                                    "num_thefts": "445"
                                },
                                {
                                    "region": "Wellington",
                                    "num_thefts": "417"
                                },
                                {
                                    "region": "Waikato",
                                    "num_thefts": "369"
                                },
                                {
                                    "region": "Northland",
                                    "num_thefts": "234"
                                },
                                {
                                    "region": "Gisborne",
                                    "num_thefts": "175"
                                },
                                {
                                    "region": "Otago",
                                    "num_thefts": "139"
                                },
                                {
                                    "region": "Manawatū-Whanganui",
                                    "num_thefts": "139"
                                },
                                {
                                    "region": "Taranaki",
                                    "num_thefts": "112"
                                },
                                {
                                    "region": "Hawke's Bay",
                                    "num_thefts": "100"
                                },
                                {
                                    "region": "Nelson",
                                    "num_thefts": "92"
                                },
                                {
                                    "region": "Southland",
                                    "num_thefts": "26"
                                }
                            ]
                        },
                        "text/html": "<table><tr><th>region</th><th>num_thefts</th></tr><tr><td>Auckland</td><td>1630</td></tr><tr><td>Canterbury</td><td>660</td></tr><tr><td>Bay of Plenty</td><td>445</td></tr><tr><td>Wellington</td><td>417</td></tr><tr><td>Waikato</td><td>369</td></tr><tr><td>Northland</td><td>234</td></tr><tr><td>Gisborne</td><td>175</td></tr><tr><td>Otago</td><td>139</td></tr><tr><td>Manawatū-Whanganui</td><td>139</td></tr><tr><td>Taranaki</td><td>112</td></tr><tr><td>Hawke&#39;s Bay</td><td>100</td></tr><tr><td>Nelson</td><td>92</td></tr><tr><td>Southland</td><td>26</td></tr></table>"
                    },
                    "metadata": {}
                }
            ],
            "execution_count": 1
        },
        {
            "cell_type": "code",
            "source": [
                "WITH regional_thefts AS (\r\n",
                "    SELECT l.region, COUNT(*) AS \"num_thefts\"\r\n",
                "    FROM stolen_vehicles s JOIN locations l ON s.location_id = l.location_id\r\n",
                "    GROUP BY l.region\r\n",
                ")\r\n",
                "\r\n",
                "SELECT \r\n",
                "    rt.region,\r\n",
                "    rt.num_thefts,\r\n",
                "    l.population,\r\n",
                "    l.density,\r\n",
                "    FORMAT(ROUND((1.0 * rt.num_thefts / l.population) * 1000,2),'N2') AS \"thefts_per1000\"\r\n",
                "FROM locations l JOIN regional_thefts rt ON l.region = rt.region\r\n",
                "ORDER BY thefts_per1000 DESC;"
            ],
            "metadata": {
                "azdata_cell_guid": "fac07009-87f7-48fe-ae0c-f4be19f67b12",
                "language": "sql"
            },
            "outputs": [
                {
                    "output_type": "display_data",
                    "data": {
                        "text/html": "(13 rows affected)"
                    },
                    "metadata": {}
                },
                {
                    "output_type": "display_data",
                    "data": {
                        "text/html": "Total execution time: 00:00:00.041"
                    },
                    "metadata": {}
                },
                {
                    "output_type": "execute_result",
                    "execution_count": 6,
                    "data": {
                        "application/vnd.dataresource+json": {
                            "schema": {
                                "fields": [
                                    {
                                        "name": "region"
                                    },
                                    {
                                        "name": "num_thefts"
                                    },
                                    {
                                        "name": "population"
                                    },
                                    {
                                        "name": "density"
                                    },
                                    {
                                        "name": "thefts_per1000"
                                    }
                                ]
                            },
                            "data": [
                                {
                                    "region": "Gisborne",
                                    "num_thefts": "175",
                                    "population": "52100",
                                    "density": "621",
                                    "thefts_per1000": "3.36"
                                },
                                {
                                    "region": "Nelson",
                                    "num_thefts": "92",
                                    "population": "54500",
                                    "density": "12915",
                                    "thefts_per1000": "1.69"
                                },
                                {
                                    "region": "Bay of Plenty",
                                    "num_thefts": "445",
                                    "population": "347700",
                                    "density": "288",
                                    "thefts_per1000": "1.28"
                                },
                                {
                                    "region": "Northland",
                                    "num_thefts": "234",
                                    "population": "201500",
                                    "density": "1611",
                                    "thefts_per1000": "1.16"
                                },
                                {
                                    "region": "Canterbury",
                                    "num_thefts": "660",
                                    "population": "655000",
                                    "density": "1472",
                                    "thefts_per1000": "1.01"
                                },
                                {
                                    "region": "Auckland",
                                    "num_thefts": "1630",
                                    "population": "1695200",
                                    "density": "34309",
                                    "thefts_per1000": "0.96"
                                },
                                {
                                    "region": "Taranaki",
                                    "num_thefts": "112",
                                    "population": "127300",
                                    "density": "1755",
                                    "thefts_per1000": "0.88"
                                },
                                {
                                    "region": "Wellington",
                                    "num_thefts": "417",
                                    "population": "543500",
                                    "density": "6752",
                                    "thefts_per1000": "0.77"
                                },
                                {
                                    "region": "Waikato",
                                    "num_thefts": "369",
                                    "population": "513800",
                                    "density": "215",
                                    "thefts_per1000": "0.72"
                                },
                                {
                                    "region": "Otago",
                                    "num_thefts": "139",
                                    "population": "246000",
                                    "density": "789",
                                    "thefts_per1000": "0.57"
                                },
                                {
                                    "region": "Hawke's Bay",
                                    "num_thefts": "100",
                                    "population": "182700",
                                    "density": "1292",
                                    "thefts_per1000": "0.55"
                                },
                                {
                                    "region": "Manawatū-Whanganui",
                                    "num_thefts": "139",
                                    "population": "258200",
                                    "density": "1162",
                                    "thefts_per1000": "0.54"
                                },
                                {
                                    "region": "Southland",
                                    "num_thefts": "26",
                                    "population": "102400",
                                    "density": "328",
                                    "thefts_per1000": "0.25"
                                }
                            ]
                        },
                        "text/html": "<table><tr><th>region</th><th>num_thefts</th><th>population</th><th>density</th><th>thefts_per1000</th></tr><tr><td>Gisborne</td><td>175</td><td>52100</td><td>621</td><td>3.36</td></tr><tr><td>Nelson</td><td>92</td><td>54500</td><td>12915</td><td>1.69</td></tr><tr><td>Bay of Plenty</td><td>445</td><td>347700</td><td>288</td><td>1.28</td></tr><tr><td>Northland</td><td>234</td><td>201500</td><td>1611</td><td>1.16</td></tr><tr><td>Canterbury</td><td>660</td><td>655000</td><td>1472</td><td>1.01</td></tr><tr><td>Auckland</td><td>1630</td><td>1695200</td><td>34309</td><td>0.96</td></tr><tr><td>Taranaki</td><td>112</td><td>127300</td><td>1755</td><td>0.88</td></tr><tr><td>Wellington</td><td>417</td><td>543500</td><td>6752</td><td>0.77</td></tr><tr><td>Waikato</td><td>369</td><td>513800</td><td>215</td><td>0.72</td></tr><tr><td>Otago</td><td>139</td><td>246000</td><td>789</td><td>0.57</td></tr><tr><td>Hawke&#39;s Bay</td><td>100</td><td>182700</td><td>1292</td><td>0.55</td></tr><tr><td>Manawatū-Whanganui</td><td>139</td><td>258200</td><td>1162</td><td>0.54</td></tr><tr><td>Southland</td><td>26</td><td>102400</td><td>328</td><td>0.25</td></tr></table>"
                    },
                    "metadata": {}
                }
            ],
            "execution_count": 6
        },
        {
            "cell_type": "code",
            "source": [
                "SELECT region, population, density \r\n",
                "FROM locations l \r\n",
                "WHERE location_id NOT IN (\r\n",
                "    SELECT location_id\r\n",
                "    FROM stolen_vehicles\r\n",
                "    GROUP BY location_id\r\n",
                ")"
            ],
            "metadata": {
                "azdata_cell_guid": "ffb065bd-4ca1-4abe-bd6c-5ea7aa2f8908",
                "language": "sql"
            },
            "outputs": [
                {
                    "output_type": "display_data",
                    "data": {
                        "text/html": "(3 rows affected)"
                    },
                    "metadata": {}
                },
                {
                    "output_type": "display_data",
                    "data": {
                        "text/html": "Total execution time: 00:00:00.033"
                    },
                    "metadata": {}
                },
                {
                    "output_type": "execute_result",
                    "execution_count": 4,
                    "data": {
                        "application/vnd.dataresource+json": {
                            "schema": {
                                "fields": [
                                    {
                                        "name": "region"
                                    },
                                    {
                                        "name": "population"
                                    },
                                    {
                                        "name": "density"
                                    }
                                ]
                            },
                            "data": [
                                {
                                    "region": "Tasman",
                                    "population": "58700",
                                    "density": "61"
                                },
                                {
                                    "region": "Marlborough",
                                    "population": "51900",
                                    "density": "494"
                                },
                                {
                                    "region": "West Coast",
                                    "population": "32700",
                                    "density": "141"
                                }
                            ]
                        },
                        "text/html": "<table><tr><th>region</th><th>population</th><th>density</th></tr><tr><td>Tasman</td><td>58700</td><td>61</td></tr><tr><td>Marlborough</td><td>51900</td><td>494</td></tr><tr><td>West Coast</td><td>32700</td><td>141</td></tr></table>"
                    },
                    "metadata": {}
                }
            ],
            "execution_count": 4
        },
        {
            "cell_type": "code",
            "source": [
                "-- Average age of a stolen vehicle(at the time of the theft)\r\n",
                "SELECT AVG(vehicle_age) AS \"avg_age\"\r\n",
                "FROM stolen_vehicles"
            ],
            "metadata": {
                "azdata_cell_guid": "40fe8d54-5ae9-48eb-963d-9e332730f3dd",
                "language": "sql"
            },
            "outputs": [
                {
                    "output_type": "display_data",
                    "data": {
                        "text/html": "(1 row affected)"
                    },
                    "metadata": {}
                },
                {
                    "output_type": "display_data",
                    "data": {
                        "text/html": "Total execution time: 00:00:00.111"
                    },
                    "metadata": {}
                },
                {
                    "output_type": "execute_result",
                    "execution_count": 3,
                    "data": {
                        "application/vnd.dataresource+json": {
                            "schema": {
                                "fields": [
                                    {
                                        "name": "avg_age"
                                    }
                                ]
                            },
                            "data": [
                                {
                                    "avg_age": "16"
                                }
                            ]
                        },
                        "text/html": "<table><tr><th>avg_age</th></tr><tr><td>16</td></tr></table>"
                    },
                    "metadata": {}
                }
            ],
            "execution_count": 3
        },
        {
            "cell_type": "code",
            "source": [
                "SELECT m.make_type, COUNT(*) AS \"num_thefts\"\r\n",
                "FROM stolen_vehicles s JOIN make_details m ON s.make_id = m.make_id\r\n",
                "GROUP BY m.make_type\r\n",
                ""
            ],
            "metadata": {
                "azdata_cell_guid": "7be08484-8be7-48c0-a822-284fb0426bae",
                "language": "sql"
            },
            "outputs": [
                {
                    "output_type": "display_data",
                    "data": {
                        "text/html": "(2 rows affected)"
                    },
                    "metadata": {}
                },
                {
                    "output_type": "display_data",
                    "data": {
                        "text/html": "Total execution time: 00:00:00.051"
                    },
                    "metadata": {}
                },
                {
                    "output_type": "execute_result",
                    "execution_count": 6,
                    "data": {
                        "application/vnd.dataresource+json": {
                            "schema": {
                                "fields": [
                                    {
                                        "name": "make_type"
                                    },
                                    {
                                        "name": "num_thefts"
                                    }
                                ]
                            },
                            "data": [
                                {
                                    "make_type": "Luxury",
                                    "num_thefts": "190"
                                },
                                {
                                    "make_type": "Standard",
                                    "num_thefts": "4348"
                                }
                            ]
                        },
                        "text/html": "<table><tr><th>make_type</th><th>num_thefts</th></tr><tr><td>Luxury</td><td>190</td></tr><tr><td>Standard</td><td>4348</td></tr></table>"
                    },
                    "metadata": {}
                }
            ],
            "execution_count": 6
        },
        {
            "cell_type": "code",
            "source": [
                "SELECT TOP 10 make_name, COUNT(*) AS \"num_thefts\"\r\n",
                "FROM stolen_vehicles s JOIN make_details m ON s.make_id = m.make_id\r\n",
                "GROUP BY m.make_name\r\n",
                "ORDER BY num_thefts DESC;"
            ],
            "metadata": {
                "azdata_cell_guid": "17a00823-893e-41f0-8d58-f43ce8541b95",
                "language": "sql"
            },
            "outputs": [
                {
                    "output_type": "display_data",
                    "data": {
                        "text/html": "(10 rows affected)"
                    },
                    "metadata": {}
                },
                {
                    "output_type": "display_data",
                    "data": {
                        "text/html": "Total execution time: 00:00:00.023"
                    },
                    "metadata": {}
                },
                {
                    "output_type": "execute_result",
                    "execution_count": 8,
                    "data": {
                        "application/vnd.dataresource+json": {
                            "schema": {
                                "fields": [
                                    {
                                        "name": "make_name"
                                    },
                                    {
                                        "name": "num_thefts"
                                    }
                                ]
                            },
                            "data": [
                                {
                                    "make_name": "Toyota",
                                    "num_thefts": "716"
                                },
                                {
                                    "make_name": "Trailer",
                                    "num_thefts": "543"
                                },
                                {
                                    "make_name": "Nissan",
                                    "num_thefts": "482"
                                },
                                {
                                    "make_name": "Mazda",
                                    "num_thefts": "433"
                                },
                                {
                                    "make_name": "Ford",
                                    "num_thefts": "312"
                                },
                                {
                                    "make_name": "Honda",
                                    "num_thefts": "271"
                                },
                                {
                                    "make_name": "Mitsubishi",
                                    "num_thefts": "204"
                                },
                                {
                                    "make_name": "Subaru",
                                    "num_thefts": "202"
                                },
                                {
                                    "make_name": "Suzuki",
                                    "num_thefts": "164"
                                },
                                {
                                    "make_name": "Holden",
                                    "num_thefts": "160"
                                }
                            ]
                        },
                        "text/html": "<table><tr><th>make_name</th><th>num_thefts</th></tr><tr><td>Toyota</td><td>716</td></tr><tr><td>Trailer</td><td>543</td></tr><tr><td>Nissan</td><td>482</td></tr><tr><td>Mazda</td><td>433</td></tr><tr><td>Ford</td><td>312</td></tr><tr><td>Honda</td><td>271</td></tr><tr><td>Mitsubishi</td><td>204</td></tr><tr><td>Subaru</td><td>202</td></tr><tr><td>Suzuki</td><td>164</td></tr><tr><td>Holden</td><td>160</td></tr></table>"
                    },
                    "metadata": {}
                }
            ],
            "execution_count": 8
        },
        {
            "cell_type": "code",
            "source": [
                "SELECT vehicle_type, COUNT(*) AS \"num_thefts\"\r\n",
                "FROM stolen_vehicles \r\n",
                "GROUP BY vehicle_type\r\n",
                "ORDER BY num_thefts DESC;"
            ],
            "metadata": {
                "azdata_cell_guid": "cc718065-681d-4aa3-9d07-c77940f49558",
                "language": "sql"
            },
            "outputs": [
                {
                    "output_type": "display_data",
                    "data": {
                        "text/html": "(26 rows affected)"
                    },
                    "metadata": {}
                },
                {
                    "output_type": "display_data",
                    "data": {
                        "text/html": "Total execution time: 00:00:00.046"
                    },
                    "metadata": {}
                },
                {
                    "output_type": "execute_result",
                    "execution_count": 9,
                    "data": {
                        "application/vnd.dataresource+json": {
                            "schema": {
                                "fields": [
                                    {
                                        "name": "vehicle_type"
                                    },
                                    {
                                        "name": "num_thefts"
                                    }
                                ]
                            },
                            "data": [
                                {
                                    "vehicle_type": "Stationwagon",
                                    "num_thefts": "945"
                                },
                                {
                                    "vehicle_type": "Saloon",
                                    "num_thefts": "851"
                                },
                                {
                                    "vehicle_type": "Hatchback",
                                    "num_thefts": "644"
                                },
                                {
                                    "vehicle_type": "Trailer",
                                    "num_thefts": "582"
                                },
                                {
                                    "vehicle_type": "Utility",
                                    "num_thefts": "466"
                                },
                                {
                                    "vehicle_type": "Roadbike",
                                    "num_thefts": "297"
                                },
                                {
                                    "vehicle_type": "Moped",
                                    "num_thefts": "187"
                                },
                                {
                                    "vehicle_type": "Light Van",
                                    "num_thefts": "154"
                                },
                                {
                                    "vehicle_type": "Boat Trailer",
                                    "num_thefts": "105"
                                },
                                {
                                    "vehicle_type": "Trailer - Heavy",
                                    "num_thefts": "90"
                                },
                                {
                                    "vehicle_type": "Caravan",
                                    "num_thefts": "44"
                                },
                                {
                                    "vehicle_type": "Other Truck",
                                    "num_thefts": "42"
                                },
                                {
                                    "vehicle_type": "Sports Car",
                                    "num_thefts": "40"
                                },
                                {
                                    "vehicle_type": "Flat Deck Truck",
                                    "num_thefts": "17"
                                },
                                {
                                    "vehicle_type": "Mobile Home - Light",
                                    "num_thefts": "15"
                                },
                                {
                                    "vehicle_type": "Convertible",
                                    "num_thefts": "12"
                                },
                                {
                                    "vehicle_type": "Unknown",
                                    "num_thefts": "11"
                                },
                                {
                                    "vehicle_type": "Cab and Chassis Only",
                                    "num_thefts": "8"
                                },
                                {
                                    "vehicle_type": "Heavy Van",
                                    "num_thefts": "7"
                                },
                                {
                                    "vehicle_type": "Light Bus",
                                    "num_thefts": "6"
                                },
                                {
                                    "vehicle_type": "All Terrain Vehicle",
                                    "num_thefts": "5"
                                },
                                {
                                    "vehicle_type": "Tractor",
                                    "num_thefts": "4"
                                },
                                {
                                    "vehicle_type": "Mobile Machine",
                                    "num_thefts": "2"
                                },
                                {
                                    "vehicle_type": "Trail Bike",
                                    "num_thefts": "2"
                                },
                                {
                                    "vehicle_type": "Special Purpose Vehicle",
                                    "num_thefts": "1"
                                },
                                {
                                    "vehicle_type": "Articulated Truck",
                                    "num_thefts": "1"
                                }
                            ]
                        },
                        "text/html": "<table><tr><th>vehicle_type</th><th>num_thefts</th></tr><tr><td>Stationwagon</td><td>945</td></tr><tr><td>Saloon</td><td>851</td></tr><tr><td>Hatchback</td><td>644</td></tr><tr><td>Trailer</td><td>582</td></tr><tr><td>Utility</td><td>466</td></tr><tr><td>Roadbike</td><td>297</td></tr><tr><td>Moped</td><td>187</td></tr><tr><td>Light Van</td><td>154</td></tr><tr><td>Boat Trailer</td><td>105</td></tr><tr><td>Trailer - Heavy</td><td>90</td></tr><tr><td>Caravan</td><td>44</td></tr><tr><td>Other Truck</td><td>42</td></tr><tr><td>Sports Car</td><td>40</td></tr><tr><td>Flat Deck Truck</td><td>17</td></tr><tr><td>Mobile Home - Light</td><td>15</td></tr><tr><td>Convertible</td><td>12</td></tr><tr><td>Unknown</td><td>11</td></tr><tr><td>Cab and Chassis Only</td><td>8</td></tr><tr><td>Heavy Van</td><td>7</td></tr><tr><td>Light Bus</td><td>6</td></tr><tr><td>All Terrain Vehicle</td><td>5</td></tr><tr><td>Tractor</td><td>4</td></tr><tr><td>Mobile Machine</td><td>2</td></tr><tr><td>Trail Bike</td><td>2</td></tr><tr><td>Special Purpose Vehicle</td><td>1</td></tr><tr><td>Articulated Truck</td><td>1</td></tr></table>"
                    },
                    "metadata": {}
                }
            ],
            "execution_count": 9
        },
        {
            "cell_type": "code",
            "source": [
                "SELECT YEAR(date_stolen) AS \"year\", COUNT(*) AS \"num_thefts\"\r\n",
                "FROM stolen_vehicles\r\n",
                "GROUP BY YEAR(date_stolen);\r\n",
                ""
            ],
            "metadata": {
                "azdata_cell_guid": "516a9fc7-86c9-4c56-97eb-5bcaf70d5fd1",
                "language": "sql"
            },
            "outputs": [
                {
                    "output_type": "display_data",
                    "data": {
                        "text/html": "(2 rows affected)"
                    },
                    "metadata": {}
                },
                {
                    "output_type": "display_data",
                    "data": {
                        "text/html": "Total execution time: 00:00:00.046"
                    },
                    "metadata": {}
                },
                {
                    "output_type": "execute_result",
                    "execution_count": 10,
                    "data": {
                        "application/vnd.dataresource+json": {
                            "schema": {
                                "fields": [
                                    {
                                        "name": "year"
                                    },
                                    {
                                        "name": "num_thefts"
                                    }
                                ]
                            },
                            "data": [
                                {
                                    "year": "2021",
                                    "num_thefts": "1663"
                                },
                                {
                                    "year": "2022",
                                    "num_thefts": "2875"
                                }
                            ]
                        },
                        "text/html": "<table><tr><th>year</th><th>num_thefts</th></tr><tr><td>2021</td><td>1663</td></tr><tr><td>2022</td><td>2875</td></tr></table>"
                    },
                    "metadata": {}
                }
            ],
            "execution_count": 10
        },
        {
            "cell_type": "code",
            "source": [
                "SELECT \r\n",
                "    CASE \r\n",
                "        WHEN MONTH(date_stolen) = 1 THEN 'January'\r\n",
                "        WHEN MONTH(date_stolen) = 2 THEN 'February'\r\n",
                "        WHEN MONTH(date_stolen) = 3 THEN 'March'\r\n",
                "        WHEN MONTH(date_stolen) = 4 THEN 'April'\r\n",
                "        WHEN MONTH(date_stolen) = 5 THEN 'May'\r\n",
                "        WHEN MONTH(date_stolen) = 6 THEN 'June'\r\n",
                "        WHEN MONTH(date_stolen) = 7 THEN 'July'\r\n",
                "        WHEN MONTH(date_stolen) = 8 THEN 'August'\r\n",
                "        WHEN MONTH(date_stolen) = 9 THEN 'September'\r\n",
                "        WHEN MONTH(date_stolen) = 10 THEN 'October'\r\n",
                "        WHEN MONTH(date_stolen) = 11 THEN 'November'\r\n",
                "        ELSE 'December'\r\n",
                "    END AS MonthName,\r\n",
                "    COUNT(*) AS \"num_thefts\"\r\n",
                "FROM stolen_vehicles\r\n",
                "GROUP BY MONTH(date_stolen)\r\n",
                "ORDER BY num_thefts;"
            ],
            "metadata": {
                "azdata_cell_guid": "8017c394-c74e-4b4d-963c-520f97eeca11",
                "language": "sql"
            },
            "outputs": [
                {
                    "output_type": "display_data",
                    "data": {
                        "text/html": "(7 rows affected)"
                    },
                    "metadata": {}
                },
                {
                    "output_type": "display_data",
                    "data": {
                        "text/html": "Total execution time: 00:00:00.100"
                    },
                    "metadata": {}
                },
                {
                    "output_type": "execute_result",
                    "execution_count": 1,
                    "data": {
                        "application/vnd.dataresource+json": {
                            "schema": {
                                "fields": [
                                    {
                                        "name": "MonthName"
                                    },
                                    {
                                        "name": "num_thefts"
                                    }
                                ]
                            },
                            "data": [
                                {
                                    "MonthName": "April",
                                    "num_thefts": "327"
                                },
                                {
                                    "MonthName": "October",
                                    "num_thefts": "462"
                                },
                                {
                                    "MonthName": "November",
                                    "num_thefts": "559"
                                },
                                {
                                    "MonthName": "December",
                                    "num_thefts": "642"
                                },
                                {
                                    "MonthName": "January",
                                    "num_thefts": "740"
                                },
                                {
                                    "MonthName": "February",
                                    "num_thefts": "758"
                                },
                                {
                                    "MonthName": "March",
                                    "num_thefts": "1050"
                                }
                            ]
                        },
                        "text/html": "<table><tr><th>MonthName</th><th>num_thefts</th></tr><tr><td>April</td><td>327</td></tr><tr><td>October</td><td>462</td></tr><tr><td>November</td><td>559</td></tr><tr><td>December</td><td>642</td></tr><tr><td>January</td><td>740</td></tr><tr><td>February</td><td>758</td></tr><tr><td>March</td><td>1050</td></tr></table>"
                    },
                    "metadata": {}
                }
            ],
            "execution_count": 1
        },
        {
            "cell_type": "code",
            "source": [
                "SELECT DAY(date_stolen) AS \"Day\", COUNT(*) AS \"num_thefts\"\r\n",
                "FROM stolen_vehicles\r\n",
                "GROUP BY DAY(date_stolen)\r\n",
                "ORDER BY DAY(date_stolen);"
            ],
            "metadata": {
                "azdata_cell_guid": "98fcd47b-ac8d-49b8-894b-7bd252448260",
                "language": "sql"
            },
            "outputs": [
                {
                    "output_type": "display_data",
                    "data": {
                        "text/html": "(31 rows affected)"
                    },
                    "metadata": {}
                },
                {
                    "output_type": "display_data",
                    "data": {
                        "text/html": "Total execution time: 00:00:00.012"
                    },
                    "metadata": {}
                },
                {
                    "output_type": "execute_result",
                    "execution_count": 16,
                    "data": {
                        "application/vnd.dataresource+json": {
                            "schema": {
                                "fields": [
                                    {
                                        "name": "Day"
                                    },
                                    {
                                        "name": "num_thefts"
                                    }
                                ]
                            },
                            "data": [
                                {
                                    "Day": "1",
                                    "num_thefts": "184"
                                },
                                {
                                    "Day": "2",
                                    "num_thefts": "175"
                                },
                                {
                                    "Day": "3",
                                    "num_thefts": "133"
                                },
                                {
                                    "Day": "4",
                                    "num_thefts": "190"
                                },
                                {
                                    "Day": "5",
                                    "num_thefts": "193"
                                },
                                {
                                    "Day": "6",
                                    "num_thefts": "121"
                                },
                                {
                                    "Day": "7",
                                    "num_thefts": "141"
                                },
                                {
                                    "Day": "8",
                                    "num_thefts": "136"
                                },
                                {
                                    "Day": "9",
                                    "num_thefts": "124"
                                },
                                {
                                    "Day": "10",
                                    "num_thefts": "132"
                                },
                                {
                                    "Day": "11",
                                    "num_thefts": "144"
                                },
                                {
                                    "Day": "12",
                                    "num_thefts": "137"
                                },
                                {
                                    "Day": "13",
                                    "num_thefts": "137"
                                },
                                {
                                    "Day": "14",
                                    "num_thefts": "160"
                                },
                                {
                                    "Day": "15",
                                    "num_thefts": "148"
                                },
                                {
                                    "Day": "16",
                                    "num_thefts": "138"
                                },
                                {
                                    "Day": "17",
                                    "num_thefts": "165"
                                },
                                {
                                    "Day": "18",
                                    "num_thefts": "140"
                                },
                                {
                                    "Day": "19",
                                    "num_thefts": "130"
                                },
                                {
                                    "Day": "20",
                                    "num_thefts": "133"
                                },
                                {
                                    "Day": "21",
                                    "num_thefts": "157"
                                },
                                {
                                    "Day": "22",
                                    "num_thefts": "148"
                                },
                                {
                                    "Day": "23",
                                    "num_thefts": "148"
                                },
                                {
                                    "Day": "24",
                                    "num_thefts": "142"
                                },
                                {
                                    "Day": "25",
                                    "num_thefts": "152"
                                },
                                {
                                    "Day": "26",
                                    "num_thefts": "141"
                                },
                                {
                                    "Day": "27",
                                    "num_thefts": "151"
                                },
                                {
                                    "Day": "28",
                                    "num_thefts": "177"
                                },
                                {
                                    "Day": "29",
                                    "num_thefts": "125"
                                },
                                {
                                    "Day": "30",
                                    "num_thefts": "126"
                                },
                                {
                                    "Day": "31",
                                    "num_thefts": "110"
                                }
                            ]
                        },
                        "text/html": "<table><tr><th>Day</th><th>num_thefts</th></tr><tr><td>1</td><td>184</td></tr><tr><td>2</td><td>175</td></tr><tr><td>3</td><td>133</td></tr><tr><td>4</td><td>190</td></tr><tr><td>5</td><td>193</td></tr><tr><td>6</td><td>121</td></tr><tr><td>7</td><td>141</td></tr><tr><td>8</td><td>136</td></tr><tr><td>9</td><td>124</td></tr><tr><td>10</td><td>132</td></tr><tr><td>11</td><td>144</td></tr><tr><td>12</td><td>137</td></tr><tr><td>13</td><td>137</td></tr><tr><td>14</td><td>160</td></tr><tr><td>15</td><td>148</td></tr><tr><td>16</td><td>138</td></tr><tr><td>17</td><td>165</td></tr><tr><td>18</td><td>140</td></tr><tr><td>19</td><td>130</td></tr><tr><td>20</td><td>133</td></tr><tr><td>21</td><td>157</td></tr><tr><td>22</td><td>148</td></tr><tr><td>23</td><td>148</td></tr><tr><td>24</td><td>142</td></tr><tr><td>25</td><td>152</td></tr><tr><td>26</td><td>141</td></tr><tr><td>27</td><td>151</td></tr><tr><td>28</td><td>177</td></tr><tr><td>29</td><td>125</td></tr><tr><td>30</td><td>126</td></tr><tr><td>31</td><td>110</td></tr></table>"
                    },
                    "metadata": {}
                }
            ],
            "execution_count": 16
        },
        {
            "cell_type": "code",
            "source": [
                "SELECT weekday_stolen, COUNT(*) AS \"num_thefts\"\r\n",
                "FROM stolen_vehicles\r\n",
                "GROUP BY weekday_stolen\r\n",
                "ORDER BY \r\n",
                "    CASE\r\n",
                "        WHEN weekday_stolen = 'Mon' THEN 1\r\n",
                "        WHEN weekday_stolen = 'Tue' THEN 2 \r\n",
                "        WHEN weekday_stolen = 'Wed' THEN 3 \r\n",
                "        WHEN weekday_stolen = 'Thu' THEN 4 \r\n",
                "        WHEN weekday_stolen = 'Fri' THEN 5 \r\n",
                "        WHEN weekday_stolen = 'Sat' THEN 6\r\n",
                "        WHEN weekday_stolen = 'Sun' THEN 7\r\n",
                "    END ASC;"
            ],
            "metadata": {
                "azdata_cell_guid": "ecf24f46-3d2d-4944-a9d9-badfe7f2fa0d",
                "language": "sql"
            },
            "outputs": [
                {
                    "output_type": "display_data",
                    "data": {
                        "text/html": "(7 rows affected)"
                    },
                    "metadata": {}
                },
                {
                    "output_type": "display_data",
                    "data": {
                        "text/html": "Total execution time: 00:00:00.029"
                    },
                    "metadata": {}
                },
                {
                    "output_type": "execute_result",
                    "execution_count": 20,
                    "data": {
                        "application/vnd.dataresource+json": {
                            "schema": {
                                "fields": [
                                    {
                                        "name": "weekday_stolen"
                                    },
                                    {
                                        "name": "num_thefts"
                                    }
                                ]
                            },
                            "data": [
                                {
                                    "weekday_stolen": "Mon",
                                    "num_thefts": "762"
                                },
                                {
                                    "weekday_stolen": "Tue",
                                    "num_thefts": "708"
                                },
                                {
                                    "weekday_stolen": "Wed",
                                    "num_thefts": "625"
                                },
                                {
                                    "weekday_stolen": "Thu",
                                    "num_thefts": "618"
                                },
                                {
                                    "weekday_stolen": "Fri",
                                    "num_thefts": "654"
                                },
                                {
                                    "weekday_stolen": "Sat",
                                    "num_thefts": "576"
                                },
                                {
                                    "weekday_stolen": "Sun",
                                    "num_thefts": "595"
                                }
                            ]
                        },
                        "text/html": "<table><tr><th>weekday_stolen</th><th>num_thefts</th></tr><tr><td>Mon</td><td>762</td></tr><tr><td>Tue</td><td>708</td></tr><tr><td>Wed</td><td>625</td></tr><tr><td>Thu</td><td>618</td></tr><tr><td>Fri</td><td>654</td></tr><tr><td>Sat</td><td>576</td></tr><tr><td>Sun</td><td>595</td></tr></table>"
                    },
                    "metadata": {}
                }
            ],
            "execution_count": 20
        }
    ]
}